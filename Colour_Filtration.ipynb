{
  "nbformat": 4,
  "nbformat_minor": 0,
  "metadata": {
    "kernelspec": {
      "display_name": "Python 2",
      "language": "python",
      "name": "python2"
    },
    "language_info": {
      "codemirror_mode": {
        "name": "ipython",
        "version": 2
      },
      "file_extension": ".py",
      "mimetype": "text/x-python",
      "name": "python",
      "nbconvert_exporter": "python",
      "pygments_lexer": "ipython2",
      "version": "2.7.11"
    },
    "colab": {
      "name": "Lecture 9.1 - Filtering by Color.ipynb",
      "provenance": [],
      "collapsed_sections": [],
      "include_colab_link": true
    }
  },
  "cells": [
    {
      "cell_type": "markdown",
      "metadata": {
        "id": "view-in-github",
        "colab_type": "text"
      },
      "source": [
        "<a href=\"https://colab.research.google.com/github/Robert-Ek/OpenCV/blob/master/Colour_Filtration.ipynb\" target=\"_parent\"><img src=\"https://colab.research.google.com/assets/colab-badge.svg\" alt=\"Open In Colab\"/></a>"
      ]
    },
    {
      "cell_type": "markdown",
      "metadata": {
        "id": "apaPkjvs49i2"
      },
      "source": [
        "## Filtering by Color"
      ]
    },
    {
      "cell_type": "code",
      "metadata": {
        "id": "f-8vbJ3G49i7",
        "outputId": "76d118f4-6b53-469b-b92f-a3932fb5e83d",
        "colab": {
          "base_uri": "https://localhost:8080/",
          "height": 36
        }
      },
      "source": [
        "import cv2\n",
        "import numpy as np\n",
        "\n",
        "# Initialize webcam\n",
        "cap = cv2.VideoCapture(0)\n",
        "\n",
        "# define range of PURPLE color in HSV\n",
        "lower_red = np.array([153,102,255])\n",
        "upper_red = np.array([128,0,0])\n",
        "\n",
        "# loop until break statement is exectured\n",
        "while True:\n",
        "    \n",
        "    # Read webcam image\n",
        "    ret, frame = cap.read()\n",
        "    \n",
        "    # Convert image from RBG/BGR to HSV so we easily filter\n",
        "    hsv_img = cv2.cvtColor(frame, cv2.COLOR_BGR2HSV)\n",
        "\n",
        "\n",
        "    # Use inRange to capture only the values between lower & upper_blue\n",
        "    mask = cv2.inRange(hsv_img, lower_red, upper_red)\n",
        "\n",
        "    # Perform Bitwise AND on mask and our original frame to show only red pixels in the normal feed\n",
        "    res = cv2.bitwise_and(frame, frame, mask=mask)\n",
        "\n",
        "    cv2.imshow('Original', frame) #display the unaltered feed \n",
        "    cv2.imshow('mask', mask) #display the captured\n",
        "    cv2.imshow('Filtered Color Only', res)\n",
        "    if cv2.waitKey(1) == 13: #Press the the Enter Key\n",
        "        break\n",
        "        \n",
        "cap.release() #stop capturing the video feed\n",
        "cv2.destroyAllWindows() #destroy all remaining openCV windows"
      ],
      "execution_count": null,
      "outputs": [
        {
          "output_type": "stream",
          "text": [
            "51\n"
          ],
          "name": "stdout"
        }
      ]
    },
    {
      "cell_type": "code",
      "metadata": {
        "id": "hBp0vQve49jF",
        "outputId": "a64c0976-b06b-470a-da0b-8d81a79c7809",
        "colab": {
          "base_uri": "https://localhost:8080/",
          "height": 36
        }
      },
      "source": [
        ""
      ],
      "execution_count": null,
      "outputs": [
        {
          "output_type": "stream",
          "text": [
            "Drive already mounted at /content/gdrive; to attempt to forcibly remount, call drive.mount(\"/content/gdrive\", force_remount=True).\n"
          ],
          "name": "stdout"
        }
      ]
    },
    {
      "cell_type": "code",
      "metadata": {
        "id": "HzvZtLF249jM"
      },
      "source": [
        ""
      ],
      "execution_count": null,
      "outputs": []
    },
    {
      "cell_type": "code",
      "metadata": {
        "id": "8xpYmmmP49jS"
      },
      "source": [
        ""
      ],
      "execution_count": null,
      "outputs": []
    },
    {
      "cell_type": "code",
      "metadata": {
        "id": "VVEUrpic49jY"
      },
      "source": [
        ""
      ],
      "execution_count": null,
      "outputs": []
    }
  ]
}